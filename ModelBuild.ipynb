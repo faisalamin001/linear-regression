{
  "cells": [
    {
      "cell_type": "code",
      "execution_count": null,
      "metadata": {
        "colab": {
          "base_uri": "https://localhost:8080/"
        },
        "id": "CFubWMr3dc33",
        "outputId": "9b06b18a-9d6a-4d62-8013-7042a9a38526"
      },
      "outputs": [],
      "source": [
        "pip install pandas\n",
        "pip install numpy\n",
        "pip install seaborn\n",
        "pip install matplotlib"
      ]
    },
    {
      "cell_type": "code",
      "execution_count": null,
      "metadata": {
        "id": "yq8TM8i6eKkq"
      },
      "outputs": [],
      "source": [
        "import numpy as np\n",
        "import seaborn as sns\n",
        "import matplotlib.pyplot as plt"
      ]
    },
    {
      "cell_type": "code",
      "execution_count": null,
      "metadata": {
        "id": "TtJVLsqQeKnw"
      },
      "outputs": [],
      "source": [
        "full_data = pd.read_csv('/content/titanic_dataset.csv')"
      ]
    },
    {
      "cell_type": "code",
      "execution_count": null,
      "metadata": {
        "colab": {
          "base_uri": "https://localhost:8080/"
        },
        "id": "Qy7oAVkneKq9",
        "outputId": "0c571005-a2a0-4571-c249-fd64d6117d96"
      },
      "outputs": [],
      "source": [
        "# Data shape\n",
        "print('train data:',full_data.shape)"
      ]
    },
    {
      "cell_type": "code",
      "execution_count": null,
      "metadata": {
        "colab": {
          "base_uri": "https://localhost:8080/",
          "height": 466
        },
        "id": "dMpz6sQPfQ5s",
        "outputId": "7ed1ba0c-5ab5-47df-a065-2fb5b1a169c0"
      },
      "outputs": [],
      "source": [
        "\n",
        "full_data.head(5)"
      ]
    },
    {
      "cell_type": "code",
      "execution_count": null,
      "metadata": {
        "colab": {
          "base_uri": "https://localhost:8080/"
        },
        "id": "LQBH3E99fQ8X",
        "outputId": "215ea08e-b745-40f1-f16b-1fc8ba3ef7ed"
      },
      "outputs": [],
      "source": [
        "# Data Info\n",
        "full_data.info()"
      ]
    },
    {
      "cell_type": "code",
      "execution_count": null,
      "metadata": {
        "colab": {
          "base_uri": "https://localhost:8080/",
          "height": 522
        },
        "id": "nZhevubJfQ-x",
        "outputId": "14ac6c3b-e8c0-4045-b8fd-5fed98ff919d"
      },
      "outputs": [],
      "source": [
        "# Heatmap\n",
        "sns.heatmap(full_data.isnull(),yticklabels = False, cbar = False,cmap = 'tab20c_r')\n",
        "plt.title('Missing Data: Training Set')\n",
        "plt.show()"
      ]
    },
    {
      "cell_type": "code",
      "execution_count": null,
      "metadata": {
        "colab": {
          "base_uri": "https://localhost:8080/",
          "height": 641
        },
        "id": "NOQcKO5lfRBS",
        "outputId": "7437865f-af85-4838-fd92-2932b448920d"
      },
      "outputs": [],
      "source": [
        "plt.figure(figsize = (10,7))\n",
        "sns.boxplot(x = 'Pclass', y = 'Age', data = full_data, palette= 'GnBu_d').set_title('Age by Passenger Class')\n",
        "plt.show()"
      ]
    },
    {
      "cell_type": "code",
      "execution_count": null,
      "metadata": {
        "id": "VjBbiLQbfRED"
      },
      "outputs": [],
      "source": [
        "# Imputation function\n",
        "def impute_age(cols):\n",
        "    Age = cols[0]\n",
        "    Pclass = cols[1]\n",
        "\n",
        "    if pd.isnull(Age):\n",
        "\n",
        "        if Pclass == 1:\n",
        "            return 37\n",
        "\n",
        "        elif Pclass == 2:\n",
        "\n",
        "            return 29\n",
        "\n",
        "        else:\n",
        "            return 24\n",
        "\n",
        "    else:\n",
        "        return Age\n",
        "\n",
        "# Apply the function to the Age column\n",
        "full_data['Age']=full_data[['Age','Pclass']].apply(impute_age, axis =1 )"
      ]
    },
    {
      "cell_type": "code",
      "execution_count": null,
      "metadata": {
        "id": "hhVB7ybDfRGr"
      },
      "outputs": [],
      "source": [
        "# Remove Cabin feature\n",
        "full_data.drop('Cabin', axis = 1, inplace = True)"
      ]
    },
    {
      "cell_type": "code",
      "execution_count": null,
      "metadata": {
        "id": "_iH3sROvfRJj"
      },
      "outputs": [],
      "source": [
        "# Remove rows with missing data\n",
        "full_data.dropna(inplace = True)"
      ]
    },
    {
      "cell_type": "code",
      "execution_count": null,
      "metadata": {
        "id": "l5Y85rbofRL1"
      },
      "outputs": [],
      "source": [
        "# Remove unnecessary columns\n",
        "full_data.drop(['Name','Ticket'], axis = 1, inplace = True)\n",
        "\n",
        "# Convert objects to category data type\n",
        "objcat = ['Sex','Embarked']\n",
        "\n",
        "for colname in objcat:\n",
        "    full_data[colname] = full_data[colname].astype('category')"
      ]
    },
    {
      "cell_type": "code",
      "execution_count": null,
      "metadata": {
        "colab": {
          "base_uri": "https://localhost:8080/",
          "height": 300
        },
        "id": "qK3UFSlwfROm",
        "outputId": "fe5387cf-b19e-4a90-e300-65de0b644fc1"
      },
      "outputs": [],
      "source": [
        "# Numeric summary\n",
        "full_data.describe()"
      ]
    },
    {
      "cell_type": "code",
      "execution_count": null,
      "metadata": {
        "id": "HDlGkdRYfRQ-"
      },
      "outputs": [],
      "source": [
        "# Remove PassengerId\n",
        "full_data.drop('PassengerId', inplace = True, axis = 1)"
      ]
    },
    {
      "cell_type": "code",
      "execution_count": null,
      "metadata": {
        "colab": {
          "base_uri": "https://localhost:8080/"
        },
        "id": "fJxjgmkJhBmu",
        "outputId": "0b6509de-1669-4a78-fcce-f63d5c5023f1"
      },
      "outputs": [],
      "source": [
        "# Shape of train data\n",
        "full_data.shape"
      ]
    },
    {
      "cell_type": "code",
      "execution_count": null,
      "metadata": {
        "colab": {
          "base_uri": "https://localhost:8080/"
        },
        "id": "yS6TAqnYhBqP",
        "outputId": "1a50de75-19f6-4066-8ebf-1c1f2f7299a7"
      },
      "outputs": [],
      "source": [
        "# Identify categorical features\n",
        "full_data.select_dtypes(['category']).columns"
      ]
    },
    {
      "cell_type": "code",
      "execution_count": null,
      "metadata": {
        "id": "23xOTXLVhBto"
      },
      "outputs": [],
      "source": [
        "# Convert categorical variables into 'dummy' or indicator variables\n",
        "sex = pd.get_dummies(full_data['Sex'], drop_first = True) # drop_first prevents multi-collinearity\n",
        "embarked = pd.get_dummies(full_data['Embarked'], drop_first = True)"
      ]
    },
    {
      "cell_type": "code",
      "execution_count": null,
      "metadata": {
        "colab": {
          "base_uri": "https://localhost:8080/",
          "height": 206
        },
        "id": "IxDsO4nKhBws",
        "outputId": "6c4e3039-4a19-4ddc-e07f-1c222624fd82"
      },
      "outputs": [],
      "source": [
        "full_data.head()"
      ]
    },
    {
      "cell_type": "code",
      "execution_count": null,
      "metadata": {
        "colab": {
          "base_uri": "https://localhost:8080/",
          "height": 206
        },
        "id": "64M4_9bthWQi",
        "outputId": "60d2ea64-cdf3-4ace-88af-36f89f222033"
      },
      "outputs": [],
      "source": [
        "# Add new dummy columns to data frame\n",
        "full_data = pd.concat([full_data, sex, embarked], axis = 1)\n",
        "full_data.head(5)"
      ]
    },
    {
      "cell_type": "code",
      "execution_count": null,
      "metadata": {
        "colab": {
          "base_uri": "https://localhost:8080/",
          "height": 223
        },
        "id": "1bi5NA9dhWUF",
        "outputId": "a99e9885-d13c-4cfb-d2de-ef2c51db656f"
      },
      "outputs": [],
      "source": [
        "# Drop unecessary columns\n",
        "full_data.drop(['Sex', 'Embarked'], axis = 1, inplace = True)\n",
        "\n",
        "# Shape of train data\n",
        "print('train_data shape',full_data.shape)\n",
        "\n",
        "# Confirm changes\n",
        "full_data.head()"
      ]
    },
    {
      "cell_type": "code",
      "execution_count": null,
      "metadata": {
        "id": "hpUEWYmchivL"
      },
      "outputs": [],
      "source": [
        "# Split data to be used in the models\n",
        "# Create matrix of features\n",
        "x = full_data.drop('Survived', axis = 1) # grabs everything else but 'Survived'\n",
        "\n",
        "# Create target variable\n",
        "y = full_data['Survived'] # y is the column we're trying to predict\n",
        "\n",
        "# Use x and y variables to split the training data into train and test set\n",
        "from sklearn.model_selection import train_test_split\n",
        "x_train, x_test, y_train, y_test = train_test_split(x, y, test_size = .20, random_state = 101)"
      ]
    },
    {
      "cell_type": "code",
      "execution_count": null,
      "metadata": {
        "colab": {
          "base_uri": "https://localhost:8080/",
          "height": 233
        },
        "id": "jNWj4xyIhixu",
        "outputId": "abbd1d44-7a66-4bde-cb14-d7b625284a07"
      },
      "outputs": [],
      "source": [
        "# Fit\n",
        "# Import model\n",
        "from sklearn.linear_model import LogisticRegression\n",
        "\n",
        "# Create instance of model\n",
        "lreg = LogisticRegression()\n",
        "\n",
        "# Pass training data into model\n",
        "lreg.fit(x_train, y_train)"
      ]
    },
    {
      "cell_type": "code",
      "execution_count": null,
      "metadata": {
        "colab": {
          "base_uri": "https://localhost:8080/"
        },
        "id": "RPi0h3rfhi0B",
        "outputId": "4a2770fb-2769-49e8-9cfe-9856a37c5e4f"
      },
      "outputs": [],
      "source": [
        "# Predict\n",
        "y_pred_lreg = lreg.predict(x_test)\n",
        "print(y_pred_lreg)"
      ]
    },
    {
      "cell_type": "code",
      "execution_count": null,
      "metadata": {
        "colab": {
          "base_uri": "https://localhost:8080/"
        },
        "id": "QbkkTci-hi29",
        "outputId": "c9e29078-f3cc-4b8e-84db-09ea050fc432"
      },
      "outputs": [],
      "source": [
        "# Score It\n",
        "from sklearn.metrics import classification_report, accuracy_score\n",
        "\n",
        "print('Classification Model')\n",
        "# Accuracy\n",
        "print('--'*40)\n",
        "logreg_accuracy = round(accuracy_score(y_test, y_pred_lreg) * 100,2)\n",
        "print('Accuracy', logreg_accuracy,'%')"
      ]
    }
  ],
  "metadata": {
    "colab": {
      "provenance": []
    },
    "kernelspec": {
      "display_name": "Python 3",
      "name": "python3"
    },
    "language_info": {
      "name": "python"
    }
  },
  "nbformat": 4,
  "nbformat_minor": 0
}
