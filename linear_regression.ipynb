{
  "cells": [
    {
      "cell_type": "code",
      "execution_count": null,
      "metadata": {
        "colab": {
          "base_uri": "https://localhost:8080/"
        },
        "id": "lM3q2vLdkYX0",
        "outputId": "0530ecde-265b-42f8-ab98-856004504408"
      },
      "outputs": [],
      "source": [
        "pip install pandas\n",
        "pip install numpy\n",
        "pip install seaborn\n",
        "pip install matplotlib"
      ]
    },
    {
      "cell_type": "code",
      "execution_count": null,
      "metadata": {
        "id": "iWHQik0mkmWu"
      },
      "outputs": [],
      "source": [
        "import pandas as pd\n",
        "import numpy as np\n",
        "import seaborn as sns\n",
        "import matplotlib.pyplot as plt"
      ]
    },
    {
      "cell_type": "code",
      "execution_count": null,
      "metadata": {
        "id": "mzyk2nKulAwA"
      },
      "outputs": [],
      "source": [
        "\n",
        "%matplotlib inline\n",
        "import sklearn\n",
        "import seaborn as sns\n",
        "import warnings\n",
        "warnings.filterwarnings('ignore')\n",
        "plt.rcParams[\"figure.figsize\"] = [10,5]\n",
        "# Ignore warnings\n",
        "\n",
        "import warnings\n",
        "# Set the warning filter to ignore FutureWarning\n",
        "warnings.simplefilter(action = \"ignore\", category = FutureWarning)"
      ]
    },
    {
      "cell_type": "code",
      "execution_count": null,
      "metadata": {
        "id": "kHFEttC6lBNp"
      },
      "outputs": [],
      "source": [
        "full_data = pd.read_csv('/content/USA_Housing.csv')"
      ]
    },
    {
      "cell_type": "code",
      "execution_count": null,
      "metadata": {
        "colab": {
          "base_uri": "https://localhost:8080/"
        },
        "id": "GMqCk4RxlBQw",
        "outputId": "0d6fcaba-ac82-4b5d-c10e-aa1574f4ca07"
      },
      "outputs": [],
      "source": [
        "# Data shape\n",
        "print('train data:',full_data.shape)"
      ]
    },
    {
      "cell_type": "code",
      "execution_count": null,
      "metadata": {
        "colab": {
          "base_uri": "https://localhost:8080/",
          "height": 345
        },
        "id": "gKgcGPKmlBSt",
        "outputId": "27076ae8-427b-49ff-ba3e-c348ad7d80a0"
      },
      "outputs": [],
      "source": [
        "# View first few rows\n",
        "full_data.head(5)"
      ]
    },
    {
      "cell_type": "code",
      "execution_count": null,
      "metadata": {
        "colab": {
          "base_uri": "https://localhost:8080/"
        },
        "id": "0Ndooe29lBW6",
        "outputId": "dbdf8797-4384-4da3-cf8e-325c90071226"
      },
      "outputs": [],
      "source": [
        "# Data Info\n",
        "full_data.info()"
      ]
    },
    {
      "cell_type": "code",
      "execution_count": null,
      "metadata": {
        "colab": {
          "base_uri": "https://localhost:8080/",
          "height": 673
        },
        "id": "WuUrw2n6lusT",
        "outputId": "2ad840d9-dedd-4765-8b66-9b4769e79e6f"
      },
      "outputs": [],
      "source": [
        "# Heatmap\n",
        "sns.heatmap(full_data.isnull(),yticklabels = False, cbar = False,cmap = 'tab20c_r')\n",
        "plt.title('Missing Data: Training Set')\n",
        "plt.show()"
      ]
    },
    {
      "cell_type": "code",
      "execution_count": null,
      "metadata": {
        "id": "CzqkNhgeluvE"
      },
      "outputs": [],
      "source": [
        "# Remove Address feature\n",
        "full_data.drop('Address', axis = 1, inplace = True)"
      ]
    },
    {
      "cell_type": "code",
      "execution_count": null,
      "metadata": {
        "id": "sSp-G_v7luxo"
      },
      "outputs": [],
      "source": [
        "# Remove rows with missing data\n",
        "full_data.dropna(inplace = True)"
      ]
    },
    {
      "cell_type": "code",
      "execution_count": null,
      "metadata": {
        "colab": {
          "base_uri": "https://localhost:8080/",
          "height": 441
        },
        "id": "LRrgiYi_luz_",
        "outputId": "70b205ff-8260-40a9-92bf-9e74e20944dc"
      },
      "outputs": [],
      "source": [
        "full_data"
      ]
    },
    {
      "cell_type": "code",
      "execution_count": null,
      "metadata": {
        "colab": {
          "base_uri": "https://localhost:8080/",
          "height": 317
        },
        "id": "NO0JYkkWlu2L",
        "outputId": "0f0c61e7-9082-4a5f-e282-fe132a6e2518"
      },
      "outputs": [],
      "source": [
        "# Numeric summary\n",
        "full_data.describe()"
      ]
    },
    {
      "cell_type": "code",
      "execution_count": null,
      "metadata": {
        "colab": {
          "base_uri": "https://localhost:8080/"
        },
        "id": "HrDs4EJUlu60",
        "outputId": "49362563-fb3a-4e2c-db0a-efe9d3b9eb65"
      },
      "outputs": [],
      "source": [
        "# Shape of train data\n",
        "full_data.shape"
      ]
    },
    {
      "cell_type": "code",
      "execution_count": null,
      "metadata": {
        "id": "o9C-h3mYlBcA"
      },
      "outputs": [],
      "source": [
        "# Split data to be used in the models\n",
        "# Create matrix of features\n",
        "x = full_data.drop('Price', axis = 1) # grabs everything else but 'Price'\n",
        "\n",
        "# Create target variable\n",
        "y = full_data['Price'] # y is the column we're trying to predict"
      ]
    },
    {
      "cell_type": "code",
      "execution_count": null,
      "metadata": {
        "id": "CPI97Mq0mCBW"
      },
      "outputs": [],
      "source": [
        "from sklearn import preprocessing\n",
        "pre_process = preprocessing.StandardScaler().fit(x)\n",
        "x_transform = pre_process.fit_transform(x)"
      ]
    },
    {
      "cell_type": "code",
      "execution_count": null,
      "metadata": {
        "colab": {
          "base_uri": "https://localhost:8080/"
        },
        "id": "huodB-KemCFZ",
        "outputId": "1322e4e7-38ff-4d37-bf34-d6ca5c0b9f48"
      },
      "outputs": [],
      "source": [
        "# x Represents the Features\n",
        "x_transform.shape\n",
        "x_transform"
      ]
    },
    {
      "cell_type": "code",
      "execution_count": null,
      "metadata": {
        "colab": {
          "base_uri": "https://localhost:8080/"
        },
        "id": "1V19WjR7mCIJ",
        "outputId": "fef1a25f-ec12-4e9d-f235-1e63b2ccb39a"
      },
      "outputs": [],
      "source": [
        "y # y represents the Target\n",
        "y.shape"
      ]
    },
    {
      "cell_type": "code",
      "execution_count": null,
      "metadata": {
        "id": "PYXhaVkVmCLV"
      },
      "outputs": [],
      "source": [
        "# Use x and y variables to split the training data into train and test set\n",
        "from sklearn.model_selection import train_test_split\n",
        "x_train, x_test, y_train, y_test = train_test_split(x_transform, y, test_size = .10, random_state = 101)"
      ]
    },
    {
      "cell_type": "code",
      "execution_count": null,
      "metadata": {
        "colab": {
          "base_uri": "https://localhost:8080/",
          "height": 74
        },
        "id": "WwBFxr4tmCNa",
        "outputId": "3a4f2385-5707-4974-e0d0-04bc9c6f6db3"
      },
      "outputs": [],
      "source": [
        "# Fit\n",
        "# Import model\n",
        "from sklearn.linear_model import LinearRegression\n",
        "from sklearn.pipeline import make_pipeline\n",
        "from sklearn.preprocessing import StandardScaler\n",
        "\n",
        "# Create instance of model\n",
        "lin_reg = LinearRegression()\n",
        "\n",
        "# Pass training data into model\n",
        "lin_reg.fit(x_train, y_train)\n",
        "# pipe = make_pipeline(StandardScaler(), LinearRegression())\n",
        "# pipe.fit(x_train, y_train)"
      ]
    },
    {
      "cell_type": "code",
      "execution_count": null,
      "metadata": {
        "colab": {
          "base_uri": "https://localhost:8080/"
        },
        "id": "lsvD9glOml_r",
        "outputId": "64f1270b-806b-4134-c4bb-2ecb17a278ab"
      },
      "outputs": [],
      "source": [
        "# Predict\n",
        "y_pred = lin_reg.predict(x_test)\n",
        "print(y_pred.shape)\n",
        "print(y_pred)"
      ]
    },
    {
      "cell_type": "code",
      "execution_count": null,
      "metadata": {
        "colab": {
          "base_uri": "https://localhost:8080/",
          "height": 480
        },
        "id": "zppZtNY-m1yy",
        "outputId": "2ba0a28f-1907-4db8-c4c7-278d7253edc8"
      },
      "outputs": [],
      "source": [
        "sns.scatterplot(x=y_test, y=y_pred, color='blue', label='Actual Data points')\n",
        "plt.plot([min(y_test), max(y_test)], [min(y_test), max(y_test)], color='red', label='Ideal Line')\n",
        "plt.legend()\n",
        "plt.show()"
      ]
    },
    {
      "cell_type": "code",
      "execution_count": null,
      "metadata": {
        "colab": {
          "base_uri": "https://localhost:8080/"
        },
        "id": "WzZnIzZAm12q",
        "outputId": "573c6f3e-70c4-4947-dc56-535968760a7f"
      },
      "outputs": [],
      "source": [
        "# Combine actual and predicted values side by side\n",
        "results = np.column_stack((y_test, y_pred))\n",
        "\n",
        "# Printing the results\n",
        "print(\"Actual Values  |  Predicted Values\")\n",
        "print(\"-----------------------------\")\n",
        "for actual, predicted in results:\n",
        "    print(f\"{actual:14.2f} |  {predicted:12.2f}\")"
      ]
    },
    {
      "cell_type": "code",
      "execution_count": null,
      "metadata": {
        "colab": {
          "base_uri": "https://localhost:8080/"
        },
        "id": "9_RX3cqzm2H2",
        "outputId": "2347ee6f-b3f8-4e58-aca6-30aef730af38"
      },
      "outputs": [],
      "source": [
        "residual = actual- y_pred.reshape(-1)\n",
        "print(residual)"
      ]
    },
    {
      "cell_type": "code",
      "execution_count": null,
      "metadata": {
        "colab": {
          "base_uri": "https://localhost:8080/",
          "height": 496
        },
        "id": "D-w8OhKkm2K4",
        "outputId": "58d71ad7-7566-478d-f905-2651013329ab"
      },
      "outputs": [],
      "source": [
        "# Distribution plot for Residual (difference between actual and predicted values)\n",
        "sns.distplot(residual, kde=True)"
      ]
    },
    {
      "cell_type": "code",
      "execution_count": null,
      "metadata": {
        "colab": {
          "base_uri": "https://localhost:8080/"
        },
        "id": "TiEg2lxummCW",
        "outputId": "8a2ad8c5-7a08-44d8-9f03-ffd2b086cc5f"
      },
      "outputs": [],
      "source": [
        "# Score It\n",
        "from sklearn.metrics import mean_squared_error\n",
        "\n",
        "print('Linear Regression Model')\n",
        "# Results\n",
        "print('--'*30)\n",
        "# mean_squared_error(y_test, y_pred)\n",
        "mse = mean_squared_error(y_test, y_pred)\n",
        "rmse = np.sqrt(mse)\n",
        "\n",
        "# Print evaluation metrics\n",
        "print(\"Mean Squared Error:\", mse)\n",
        "print(\"Root Mean Squared Error:\", rmse)"
      ]
    },
    {
      "cell_type": "code",
      "execution_count": null,
      "metadata": {
        "colab": {
          "base_uri": "https://localhost:8080/"
        },
        "id": "zIXSOq54mmE4",
        "outputId": "83371a35-07bf-4e01-cea1-590928709500"
      },
      "outputs": [],
      "source": [
        "s = 10100187858 - 9839952411\n",
        "print(s)"
      ]
    },
    {
      "cell_type": "code",
      "execution_count": null,
      "metadata": {
        "colab": {
          "base_uri": "https://localhost:8080/"
        },
        "id": "OTXyrSUKmmHA",
        "outputId": "b5893299-77cd-498a-8d7a-365538da00ea"
      },
      "outputs": [],
      "source": [
        "y_train.shape"
      ]
    },
    {
      "cell_type": "code",
      "execution_count": null,
      "metadata": {
        "colab": {
          "base_uri": "https://localhost:8080/"
        },
        "id": "f99W4mzrmmKC",
        "outputId": "829bc37f-568c-4a6a-d10e-cdb53b2ce954"
      },
      "outputs": [],
      "source": [
        "from sklearn.tree import DecisionTreeRegressor\n",
        "from sklearn.ensemble import RandomForestRegressor\n",
        "\n",
        "rf_regressor = DecisionTreeRegressor()\n",
        "rf_regressor.fit(x_train,y_train)\n",
        "\n",
        "#Predicting the SalePrices using test set\n",
        "y_pred_rf = rf_regressor.predict(x_test)\n",
        "\n",
        "DTr = mean_squared_error(y_pred_rf,y_test)\n",
        "#Random Forest Regression Accuracy with test set\n",
        "print('Decision Tree Regression : ',DTr)"
      ]
    },
    {
      "cell_type": "code",
      "execution_count": null,
      "metadata": {
        "colab": {
          "base_uri": "https://localhost:8080/"
        },
        "id": "oZt4XHFGmmNP",
        "outputId": "40c14ac1-fd49-458d-86e6-a0c622af4b4c"
      },
      "outputs": [],
      "source": [
        "from sklearn.tree import DecisionTreeRegressor\n",
        "from sklearn.ensemble import RandomForestRegressor\n",
        "\n",
        "rf_regressor = RandomForestRegressor()\n",
        "rf_regressor.fit(x_train,y_train)\n",
        "\n",
        "#Predicting the SalePrices using test set\n",
        "y_pred_rf = rf_regressor.predict(x_test)\n",
        "RFr = mean_squared_error(y_pred_rf,y_test)\n",
        "#Random Forest Regression Accuracy with test set\n",
        "print('Random Forest Regression : ',RFr)"
      ]
    },
    {
      "cell_type": "code",
      "execution_count": null,
      "metadata": {
        "colab": {
          "base_uri": "https://localhost:8080/"
        },
        "id": "if-MHebAmmPY",
        "outputId": "659757c0-a94c-4233-bedf-2c524de11158"
      },
      "outputs": [],
      "source": [
        "from sklearn.tree import DecisionTreeRegressor\n",
        "from sklearn.ensemble import RandomForestRegressor\n",
        "from sklearn.ensemble import GradientBoostingRegressor\n",
        "\n",
        "rf_regressor = GradientBoostingRegressor()\n",
        "rf_regressor.fit(x_train,y_train)\n",
        "\n",
        "#Predicting the SalePrices using test set\n",
        "y_pred_rf = rf_regressor.predict(x_test)\n",
        "\n",
        "#Random Forest Regression Accuracy with test set\n",
        "GBr = mean_squared_error(y_pred_rf,y_test)\n",
        "print('Gradient Boosting Regression : ',GBr)"
      ]
    },
    {
      "cell_type": "code",
      "execution_count": null,
      "metadata": {
        "colab": {
          "base_uri": "https://localhost:8080/"
        },
        "id": "mrTigYisntRT",
        "outputId": "4882da8e-ab7a-4a59-af02-cdf3bc3e0956"
      },
      "outputs": [],
      "source": [
        "# Sample model scores (replace these with your actual model scores)\n",
        "model_scores = {\n",
        "    \"Linear Regression\": 9839952411.801708,\n",
        "    \"Descison Tree\": 29698988724.82603,\n",
        "    \"Random Forest\":14315329749.65445,\n",
        "    \"Gradient Boosting\": 12029643835.717766\n",
        "}\n",
        "\n",
        "# Sort the model scores in ascending order based on their values (lower values first)\n",
        "sorted_scores = sorted(model_scores.items(), key=lambda x: x[1])\n",
        "\n",
        "# Display the ranking of the models\n",
        "print(\"Model Rankings (lower values are better):\")\n",
        "for rank, (model_name, score) in enumerate(sorted_scores, start=1):\n",
        "    print(f\"{rank}. {model_name}: {score}\")\n"
      ]
    }
  ],
  "metadata": {
    "colab": {
      "provenance": []
    },
    "kernelspec": {
      "display_name": "Python 3",
      "name": "python3"
    },
    "language_info": {
      "name": "python",
      "version": "3.12.0"
    }
  },
  "nbformat": 4,
  "nbformat_minor": 0
}
